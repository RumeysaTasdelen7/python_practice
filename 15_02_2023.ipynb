{
 "cells": [
  {
   "cell_type": "code",
   "execution_count": 2,
   "metadata": {},
   "outputs": [
    {
     "name": "stdout",
     "output_type": "stream",
     "text": [
      "3658 saniye= 1 saat 0 dakika 58 saniye eder\n"
     ]
    }
   ],
   "source": [
    "verilen_saniye = 3658\n",
    "saat = verilen_saniye // 3600\n",
    "dakika = (verilen_saniye % 3600) // 60\n",
    "saniye = (verilen_saniye % 3600) % 60\n",
    "print(verilen_saniye, \"saniye=\" , saat, \"saat\" , dakika, \"dakika\", saniye, \"saniye eder\")"
   ]
  },
  {
   "cell_type": "code",
   "execution_count": 3,
   "metadata": {},
   "outputs": [
    {
     "name": "stdout",
     "output_type": "stream",
     "text": [
      "6000 saniye= 1 saat 40 dakika 0 saniye eder\n"
     ]
    }
   ],
   "source": [
    "verilen_saniye = 6000\n",
    "saat = verilen_saniye // 3600\n",
    "dakika = (verilen_saniye % 3600) // 60\n",
    "saniye = (verilen_saniye % 3600) % 60\n",
    "print(verilen_saniye, \"saniye=\" , saat, \"saat\" , dakika, \"dakika\", saniye, \"saniye eder\")"
   ]
  },
  {
   "cell_type": "code",
   "execution_count": 4,
   "metadata": {},
   "outputs": [
    {
     "name": "stdout",
     "output_type": "stream",
     "text": [
      "8765 saniye= 2 saat 26 dakika 5 saniye eder\n"
     ]
    }
   ],
   "source": [
    "verilen_saniye = 8765\n",
    "saat = verilen_saniye // 3600\n",
    "dakika = (verilen_saniye % 3600) // 60\n",
    "saniye = (verilen_saniye % 3600) % 60\n",
    "print(verilen_saniye, \"saniye=\" , saat, \"saat\" , dakika, \"dakika\", saniye, \"saniye eder\")\n"
   ]
  },
  {
   "cell_type": "code",
   "execution_count": 5,
   "metadata": {},
   "outputs": [],
   "source": [
    "str1 = \"sarı\"\n",
    "str2 = \"mehmet\""
   ]
  },
  {
   "cell_type": "code",
   "execution_count": 9,
   "metadata": {},
   "outputs": [
    {
     "name": "stdout",
     "output_type": "stream",
     "text": [
      "samehmetrı\n"
     ]
    }
   ],
   "source": [
    "print(str1[:(len(str1) // 2)] + str2 + str1[(len(str1) // 2):])"
   ]
  },
  {
   "cell_type": "code",
   "execution_count": 11,
   "metadata": {},
   "outputs": [],
   "source": [
    "str3 = \"ayşe\"\n",
    "str4 = \"emir\"              "
   ]
  },
  {
   "cell_type": "code",
   "execution_count": 12,
   "metadata": {},
   "outputs": [
    {
     "name": "stdout",
     "output_type": "stream",
     "text": [
      "ayemirşe\n"
     ]
    }
   ],
   "source": [
    "print(str3[:(len(str3) // 2)] + str4 + str3[(len(str3) // 2):])"
   ]
  },
  {
   "cell_type": "code",
   "execution_count": 13,
   "metadata": {},
   "outputs": [],
   "source": [
    "str5 = \"seda\"\n",
    "str6 = \"latife\""
   ]
  },
  {
   "cell_type": "code",
   "execution_count": 14,
   "metadata": {},
   "outputs": [
    {
     "name": "stdout",
     "output_type": "stream",
     "text": [
      "latsedaife\n"
     ]
    }
   ],
   "source": [
    "print(str6[:(len(str6) // 2)] + str5 + str6[(len(str6) // 2):])"
   ]
  },
  {
   "cell_type": "code",
   "execution_count": 17,
   "metadata": {},
   "outputs": [
    {
     "data": {
      "text/plain": [
       "6"
      ]
     },
     "execution_count": 17,
     "metadata": {},
     "output_type": "execute_result"
    }
   ],
   "source": [
    "len(str6)"
   ]
  },
  {
   "cell_type": "code",
   "execution_count": 19,
   "metadata": {},
   "outputs": [
    {
     "name": "stdout",
     "output_type": "stream",
     "text": [
      "sınavdan aldığınız not D harfine denk gelmektedir\n"
     ]
    }
   ],
   "source": [
    "sınav_notu = int(input(\"Sınav notunu giriniz\"))\n",
    "\n",
    "if sınav_notu >= 90:\n",
    "    harf_notu = \"A\"\n",
    "elif sınav_notu >= 75:\n",
    "    harf_notu = \"B\"\n",
    "elif sınav_notu >= 60:\n",
    "    harf_notu = \"C\"\n",
    "elif sınav_notu >= 45:\n",
    "    harf_notu = \"D\"\n",
    "elif sınav_notu < 45:\n",
    "    harf_notu = \"F\"\n",
    "\n",
    "print(f\"sınavdan aldığınız not {harf_notu} harfine denk gelmektedir\")        "
   ]
  },
  {
   "cell_type": "code",
   "execution_count": 20,
   "metadata": {},
   "outputs": [
    {
     "name": "stdout",
     "output_type": "stream",
     "text": [
      "sınavdan aldığınız not F harfine denk gelmektedir\n"
     ]
    }
   ],
   "source": [
    "sınav_notu = int(input(\"Sınav notunu giriniz\"))\n",
    "\n",
    "if sınav_notu >= 90:\n",
    "    harf_notu = \"A\"\n",
    "elif sınav_notu >= 75:\n",
    "    harf_notu = \"B\"\n",
    "elif sınav_notu >= 60:\n",
    "    harf_notu = \"C\"\n",
    "elif sınav_notu >= 45:\n",
    "    harf_notu = \"D\"\n",
    "else:\n",
    "    harf_notu = \"F\"\n",
    "\n",
    "print(f\"sınavdan aldığınız not {harf_notu} harfine denk gelmektedir\")        "
   ]
  },
  {
   "cell_type": "code",
   "execution_count": null,
   "metadata": {},
   "outputs": [],
   "source": []
  },
  {
   "cell_type": "code",
   "execution_count": null,
   "metadata": {},
   "outputs": [],
   "source": []
  },
  {
   "cell_type": "code",
   "execution_count": null,
   "metadata": {},
   "outputs": [],
   "source": []
  },
  {
   "cell_type": "code",
   "execution_count": null,
   "metadata": {},
   "outputs": [],
   "source": []
  },
  {
   "cell_type": "code",
   "execution_count": null,
   "metadata": {},
   "outputs": [],
   "source": []
  },
  {
   "cell_type": "code",
   "execution_count": null,
   "metadata": {},
   "outputs": [],
   "source": []
  },
  {
   "cell_type": "code",
   "execution_count": null,
   "metadata": {},
   "outputs": [],
   "source": []
  }
 ],
 "metadata": {
  "kernelspec": {
   "display_name": "Python 3",
   "language": "python",
   "name": "python3"
  },
  "language_info": {
   "codemirror_mode": {
    "name": "ipython",
    "version": 3
   },
   "file_extension": ".py",
   "mimetype": "text/x-python",
   "name": "python",
   "nbconvert_exporter": "python",
   "pygments_lexer": "ipython3",
   "version": "3.11.1"
  },
  "orig_nbformat": 4,
  "vscode": {
   "interpreter": {
    "hash": "713804cc2d668379efd4d6a39f261106dca65bffc2d4539db95a5694855868e6"
   }
  }
 },
 "nbformat": 4,
 "nbformat_minor": 2
}
