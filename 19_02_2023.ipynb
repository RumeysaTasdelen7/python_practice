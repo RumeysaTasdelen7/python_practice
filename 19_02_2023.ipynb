{
 "cells": [
  {
   "attachments": {},
   "cell_type": "markdown",
   "metadata": {},
   "source": [
    "Soru1\n",
    "'kullanıcıdan aldığın iki sayının toplamını format yöntemlerinden biri ile yazdırın\n",
    "ooutput >> toplam : 9.0"
   ]
  },
  {
   "cell_type": "code",
   "execution_count": 3,
   "metadata": {},
   "outputs": [
    {
     "name": "stdout",
     "output_type": "stream",
     "text": [
      "toplam : 9.0\n"
     ]
    }
   ],
   "source": [
    "num_1 = input(\"bir sayi girin\")\n",
    "num_2 = input(\"bir sayi girin\")\n",
    "toplam = float(num_1) + float(num_2)\n",
    "print(f\"toplam : {toplam}\")"
   ]
  },
  {
   "cell_type": "code",
   "execution_count": 5,
   "metadata": {},
   "outputs": [
    {
     "name": "stdout",
     "output_type": "stream",
     "text": [
      "toplam : 9.0\n"
     ]
    }
   ],
   "source": [
    "num_1 = float(input(\"bir sayi girin\"))\n",
    "num_2 = float(input(\"bir sayi girin\"))\n",
    "\n",
    "print(\"toplam : {}\".format(num_1 + num_2))"
   ]
  },
  {
   "cell_type": "code",
   "execution_count": 6,
   "metadata": {},
   "outputs": [
    {
     "name": "stdout",
     "output_type": "stream",
     "text": [
      " girilen sayilar : 5.0 ve 4.0 dir \n"
     ]
    }
   ],
   "source": [
    "num_1 = float(input(\"bir sayi girin\"))\n",
    "num_2 = float(input(\"bir sayi girin\"))\n",
    "\n",
    "print(\" girilen sayilar : {} ve {} dir \".format(num_1,num_2))"
   ]
  },
  {
   "cell_type": "code",
   "execution_count": 7,
   "metadata": {},
   "outputs": [
    {
     "name": "stdout",
     "output_type": "stream",
     "text": [
      " girilen sayilar : 4.0 ve 5.0 dir \n"
     ]
    }
   ],
   "source": [
    "num_1 = float(input(\"bir sayi girin\"))\n",
    "num_2 = float(input(\"bir sayi girin\"))\n",
    "\n",
    "print(\" girilen sayilar : {1} ve {0} dir \".format(num_1,num_2))"
   ]
  },
  {
   "cell_type": "code",
   "execution_count": 8,
   "metadata": {},
   "outputs": [
    {
     "name": "stdout",
     "output_type": "stream",
     "text": [
      "sayilar 15 25\n"
     ]
    }
   ],
   "source": [
    "sayi1 = 15\n",
    "sayi2 = 25\n",
    "\n",
    "print(\"sayilar {} {}\".format(sayi1,sayi2))"
   ]
  },
  {
   "cell_type": "code",
   "execution_count": 9,
   "metadata": {},
   "outputs": [
    {
     "name": "stdout",
     "output_type": "stream",
     "text": [
      "sayilar 25 15\n"
     ]
    }
   ],
   "source": [
    "sayi1 = 15\n",
    "sayi2 = 25\n",
    "\n",
    "print(\"sayilar {1} {0}\".format(sayi1,sayi2))"
   ]
  },
  {
   "attachments": {},
   "cell_type": "markdown",
   "metadata": {},
   "source": [
    "soru2\n",
    "'kullanıcıdan aldığınız iki sayinin farki ile toplamının çarpımını bulan bir python kodu yazın'"
   ]
  },
  {
   "cell_type": "code",
   "execution_count": 10,
   "metadata": {},
   "outputs": [
    {
     "name": "stdout",
     "output_type": "stream",
     "text": [
      "9.0\n"
     ]
    }
   ],
   "source": [
    "num_1 = float(input(\"bir sayi girin\"))\n",
    "num_2 = float(input(\"bir sayi girin\"))\n",
    "\n",
    "toplam = num_1 + num_2\n",
    "fark = num_1 - num_2\n",
    "carpim = toplam * fark\n",
    "\n",
    "print(carpim)"
   ]
  },
  {
   "cell_type": "code",
   "execution_count": 11,
   "metadata": {},
   "outputs": [
    {
     "data": {
      "text/plain": [
       "-3"
      ]
     },
     "execution_count": 11,
     "metadata": {},
     "output_type": "execute_result"
    }
   ],
   "source": [
    "9 - 12"
   ]
  },
  {
   "cell_type": "code",
   "execution_count": 12,
   "metadata": {},
   "outputs": [
    {
     "data": {
      "text/plain": [
       "3"
      ]
     },
     "execution_count": 12,
     "metadata": {},
     "output_type": "execute_result"
    }
   ],
   "source": [
    "abs(9 - 12)"
   ]
  },
  {
   "attachments": {},
   "cell_type": "markdown",
   "metadata": {},
   "source": [
    "soru3\n",
    "200 birim paranız var Fiyatını bilmediğiniz üründen 11 tane alabileceğinizi söyledi satıcı. \n",
    "ürünü fiyatınedir ?\n",
    "200 birim paranızdan geriye ne kadar kalır?"
   ]
  },
  {
   "cell_type": "code",
   "execution_count": 13,
   "metadata": {},
   "outputs": [
    {
     "data": {
      "text/plain": [
       "18"
      ]
     },
     "execution_count": 13,
     "metadata": {},
     "output_type": "execute_result"
    }
   ],
   "source": [
    "200 // 11"
   ]
  },
  {
   "cell_type": "code",
   "execution_count": 14,
   "metadata": {},
   "outputs": [
    {
     "data": {
      "text/plain": [
       "2"
      ]
     },
     "execution_count": 14,
     "metadata": {},
     "output_type": "execute_result"
    }
   ],
   "source": [
    "200 % 11"
   ]
  },
  {
   "attachments": {},
   "cell_type": "markdown",
   "metadata": {},
   "source": [
    "soru4\n",
    "kullanıcıdan iki sayı isteyin . ve bu sayıları değişkenlere atayın ve bu değişkenlerin değerlerini birbiriyle değiştirin."
   ]
  },
  {
   "cell_type": "code",
   "execution_count": 15,
   "metadata": {},
   "outputs": [
    {
     "name": "stdout",
     "output_type": "stream",
     "text": [
      "10 5\n"
     ]
    }
   ],
   "source": [
    "num_1 = int(input(\"bir sayi girin\"))\n",
    "num_2 = int(input(\"bir sayi girin\"))\n",
    "\n",
    "ara_değer = num_1\n",
    "num_1 = num_2\n",
    "num_2 = ara_değer\n",
    "\n",
    "print(num_1,num_2)"
   ]
  },
  {
   "cell_type": "code",
   "execution_count": 17,
   "metadata": {},
   "outputs": [
    {
     "name": "stdout",
     "output_type": "stream",
     "text": [
      "Değiştirilmedenönce deperler\n",
      "x: 6 y: 3\n",
      "\n",
      "Değiştirildikten sonraki değerler\n",
      "y: 6 y: 3\n",
      "\n"
     ]
    }
   ],
   "source": [
    "x = int(input(\"bir sayi girin\"))\n",
    "y = int(input(\"bir sayi girin\"))\n",
    "\n",
    "x, y = y, x\n",
    "\n",
    "print(\"Değiştirilmedenönce deperler\\nx: {} y: {}\\n\".format(x,y))\n",
    "print(\"Değiştirildikten sonraki değerler\\ny: {} y: {}\\n\" .format(x,y))\n"
   ]
  },
  {
   "attachments": {},
   "cell_type": "markdown",
   "metadata": {},
   "source": [
    "soru5\n",
    "kullanıcıdan bir string ve bir tamsayı girdisi alınve örnekteki gibi çıktıyı alın.\n",
    "\n",
    "ör: kelime = \"Techpro\" sayı = 3 Output >> ProProPro\n",
    "ör: kelime = \"sedat\" sayı = 2 Output >> atat"
   ]
  },
  {
   "cell_type": "code",
   "execution_count": null,
   "metadata": {},
   "outputs": [],
   "source": [
    "a = input(\"str giriniz: \")\n",
    "b = int(input(\"bir sayi giriniz: \"))\n",
    "\n",
    "print(a[-b:]*b)"
   ]
  },
  {
   "cell_type": "code",
   "execution_count": null,
   "metadata": {},
   "outputs": [],
   "source": []
  },
  {
   "cell_type": "code",
   "execution_count": null,
   "metadata": {},
   "outputs": [],
   "source": []
  },
  {
   "cell_type": "code",
   "execution_count": null,
   "metadata": {},
   "outputs": [],
   "source": []
  },
  {
   "cell_type": "code",
   "execution_count": null,
   "metadata": {},
   "outputs": [],
   "source": []
  },
  {
   "cell_type": "code",
   "execution_count": null,
   "metadata": {},
   "outputs": [],
   "source": []
  },
  {
   "cell_type": "code",
   "execution_count": null,
   "metadata": {},
   "outputs": [],
   "source": []
  },
  {
   "cell_type": "code",
   "execution_count": null,
   "metadata": {},
   "outputs": [],
   "source": []
  }
 ],
 "metadata": {
  "kernelspec": {
   "display_name": "Python 3",
   "language": "python",
   "name": "python3"
  },
  "language_info": {
   "codemirror_mode": {
    "name": "ipython",
    "version": 3
   },
   "file_extension": ".py",
   "mimetype": "text/x-python",
   "name": "python",
   "nbconvert_exporter": "python",
   "pygments_lexer": "ipython3",
   "version": "3.11.1"
  },
  "orig_nbformat": 4,
  "vscode": {
   "interpreter": {
    "hash": "713804cc2d668379efd4d6a39f261106dca65bffc2d4539db95a5694855868e6"
   }
  }
 },
 "nbformat": 4,
 "nbformat_minor": 2
}
