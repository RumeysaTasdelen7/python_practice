{
 "cells": [
  {
   "attachments": {},
   "cell_type": "markdown",
   "metadata": {},
   "source": [
    "# 8765 sn kaç saat kaç dk kaç sn dir?"
   ]
  },
  {
   "cell_type": "code",
   "execution_count": 22,
   "metadata": {},
   "outputs": [
    {
     "name": "stdout",
     "output_type": "stream",
     "text": [
      "8765 saniye = 2 saat= 26 dakika= 5 saniye eder\n"
     ]
    }
   ],
   "source": [
    "verilen_saniye = 8765\n",
    "saat = verilen_saniye // 3600 # 1 saat 60 dk veya 3600 sn dir\n",
    "dakika = (verilen_saniye % 3600) // 60\n",
    "saniye = (verilen_saniye % 3600) % 60\n",
    "print(verilen_saniye, \"saniye =\", saat, \"saat=\", dakika, \"dakika=\", saniye,\"saniye eder\")\n"
   ]
  },
  {
   "cell_type": "code",
   "execution_count": 24,
   "metadata": {},
   "outputs": [
    {
     "name": "stdout",
     "output_type": "stream",
     "text": [
      "8765 saniye; 2 saat 26 dakika 5 saniye eder\n"
     ]
    }
   ],
   "source": [
    "print(f\"{verilen_saniye} saniye; {saat} saat {dakika} dakika {saniye} saniye eder\")"
   ]
  },
  {
   "cell_type": "code",
   "execution_count": 25,
   "metadata": {},
   "outputs": [
    {
     "name": "stdout",
     "output_type": "stream",
     "text": [
      "8765 saniye = 2 saat= 26 dakika= 5 saniye eder\n"
     ]
    }
   ],
   "source": [
    "verilen_saniye = 8765\n",
    "saat = verilen_saniye // 3600 # 1 saat 60 dk veya 3600 sn dir\n",
    "dakika = (verilen_saniye % 3600) // 60\n",
    "saniye = (verilen_saniye % 3600) % 60\n",
    "print(verilen_saniye, \"saniye =\", saat, \"saat=\", dakika, \"dakika=\", saniye,\"saniye eder\")\n"
   ]
  },
  {
   "cell_type": "code",
   "execution_count": 26,
   "metadata": {},
   "outputs": [
    {
     "name": "stdout",
     "output_type": "stream",
     "text": [
      "8765 saniye; 2 saat 26 dakika 5 saniye eder\n"
     ]
    }
   ],
   "source": [
    "print(f\"{verilen_saniye} saniye; {saat} saat {dakika} dakika {saniye} saniye eder\".format(verilen_saniye,saat,dakika,saniye))"
   ]
  },
  {
   "cell_type": "code",
   "execution_count": 27,
   "metadata": {},
   "outputs": [
    {
     "name": "stdout",
     "output_type": "stream",
     "text": [
      "8765 saniye; 2 saat 26 dakika 5 saniye eder\n"
     ]
    }
   ],
   "source": [
    "print(f\"{verilen_saniye} saniye; {saat} saat {dakika} dakika {saniye} saniye eder\".format(verilen_saniye,saat,dakika,saniye,saat))"
   ]
  },
  {
   "cell_type": "code",
   "execution_count": 28,
   "metadata": {},
   "outputs": [
    {
     "data": {
      "text/plain": [
       "7"
      ]
     },
     "execution_count": 28,
     "metadata": {},
     "output_type": "execute_result"
    }
   ],
   "source": [
    "len(\"Techpro\")"
   ]
  },
  {
   "cell_type": "code",
   "execution_count": 30,
   "metadata": {},
   "outputs": [
    {
     "data": {
      "text/plain": [
       "'Meh'"
      ]
     },
     "execution_count": 30,
     "metadata": {},
     "output_type": "execute_result"
    }
   ],
   "source": [
    "\"Mehmet\"[:len(\"Mehmet\") // 2]"
   ]
  },
  {
   "cell_type": "code",
   "execution_count": 32,
   "metadata": {},
   "outputs": [],
   "source": [
    "str1 = \"sarı\"\n",
    "str2 = \"mehmet\" # \"samehmetrı\""
   ]
  },
  {
   "cell_type": "code",
   "execution_count": 35,
   "metadata": {},
   "outputs": [
    {
     "name": "stdout",
     "output_type": "stream",
     "text": [
      "samehmetrı\n"
     ]
    }
   ],
   "source": [
    "print(\"sarı\"[:(len(str1)// 2)]+\"mehmet\"+\"sarı\" [(len(str1)//2):])"
   ]
  },
  {
   "attachments": {},
   "cell_type": "markdown",
   "metadata": {},
   "source": [
    "#ıf -elif - else"
   ]
  },
  {
   "cell_type": "code",
   "execution_count": 37,
   "metadata": {},
   "outputs": [
    {
     "name": "stdout",
     "output_type": "stream",
     "text": [
      "5, 4 ten büyüktür\n"
     ]
    }
   ],
   "source": [
    "if 5 > 4:\n",
    "    print(\"5, 4 ten büyüktür\")"
   ]
  },
  {
   "cell_type": "code",
   "execution_count": 38,
   "metadata": {},
   "outputs": [],
   "source": [
    "if 5 < 4:\n",
    "    print(\"5, 4 ten büyüktür\")"
   ]
  },
  {
   "cell_type": "code",
   "execution_count": 39,
   "metadata": {},
   "outputs": [
    {
     "ename": "IndentationError",
     "evalue": "expected an indented block after 'if' statement on line 1 (666473472.py, line 2)",
     "output_type": "error",
     "traceback": [
      "\u001b[1;36m  Cell \u001b[1;32mIn[39], line 2\u001b[1;36m\u001b[0m\n\u001b[1;33m    print(\"5, 4 ten büyüktür\")\u001b[0m\n\u001b[1;37m    ^\u001b[0m\n\u001b[1;31mIndentationError\u001b[0m\u001b[1;31m:\u001b[0m expected an indented block after 'if' statement on line 1\n"
     ]
    }
   ],
   "source": [
    "if 5 > 4:\n",
    "print(\"5, 4 ten büyüktür\")"
   ]
  },
  {
   "cell_type": "code",
   "execution_count": 41,
   "metadata": {},
   "outputs": [
    {
     "name": "stdout",
     "output_type": "stream",
     "text": [
      "5, 4 den büyüktür\n"
     ]
    }
   ],
   "source": [
    "if 5 < 4:\n",
    "    print(\"5, 4 den küçüktür\")\n",
    "elif 5 > 4:\n",
    "    print(\"5, 4 den büyüktür\")"
   ]
  },
  {
   "cell_type": "code",
   "execution_count": 42,
   "metadata": {},
   "outputs": [
    {
     "name": "stdout",
     "output_type": "stream",
     "text": [
      "5 sayısı 4 den küçük değilmiş. Aynı zamanda 5 sayısı 4 e eşitte değilmiş\n"
     ]
    }
   ],
   "source": [
    "if 5 < 4:\n",
    "    print(\"5, 4 den küçüktür\")\n",
    "elif 5 == 4:\n",
    "    print(\"5, 4 e eşittir\")\n",
    "else:\n",
    "    print(\"5 sayısı 4 den küçük değilmiş. Aynı zamanda 5 sayısı 4 e eşitte değilmiş\")"
   ]
  },
  {
   "attachments": {},
   "cell_type": "markdown",
   "metadata": {},
   "source": [
    "input ile kullanıcıdan 100 lük sistemde aldığı notu isteyin ve harf notunu döndüren bir algoritma oluşturun\n",
    "90 ve üstü A\n",
    "75 ve üstü B\n",
    "60 ve üstü C\n",
    "45 ve üstü D\n",
    "45 in altı F"
   ]
  },
  {
   "cell_type": "code",
   "execution_count": 47,
   "metadata": {},
   "outputs": [
    {
     "name": "stdout",
     "output_type": "stream",
     "text": [
      "sınavdan aldığınız not C harfine denk gelmektedir\n"
     ]
    }
   ],
   "source": [
    "sınav_notu = int(input(\"Sınav notunu giriniz\"))\n",
    "\n",
    "if sınav_notu >= 90:\n",
    "    harf_notu = \"A\"\n",
    "elif sınav_notu >= 75:\n",
    "    harf_notu = \"B\"\n",
    "elif sınav_notu >= 60:\n",
    "    harf_notu = \"C\"\n",
    "elif sınav_notu >= 45:\n",
    "    harf_notu = \"D\"\n",
    "else:\n",
    "    harf_notu = \"F\"\n",
    "print(f\"sınavdan aldığınız not {harf_notu} harfine denk gelmektedir\")"
   ]
  },
  {
   "cell_type": "code",
   "execution_count": 48,
   "metadata": {},
   "outputs": [
    {
     "name": "stdout",
     "output_type": "stream",
     "text": [
      "B\n",
      "sınavdan aldığınız not77 harfine denk gelmektedir.\n"
     ]
    }
   ],
   "source": [
    "x = int(input(\"lutfen notunuzu girin\"))\n",
    "if x >= 90:\n",
    "    print(\"A\")\n",
    "elif x >= 75:\n",
    "    print(\"B\")\n",
    "elif x >= 60:\n",
    "    print(\"C\")\n",
    "elif x >= 45:\n",
    "    print(\"D\")\n",
    "else :\n",
    "    print(\"F\")\n",
    "print(f\"sınavdan aldığınız not{x} harfine denk gelmektedir.\")"
   ]
  },
  {
   "cell_type": "code",
   "execution_count": null,
   "metadata": {},
   "outputs": [],
   "source": []
  }
 ],
 "metadata": {
  "kernelspec": {
   "display_name": "Python 3",
   "language": "python",
   "name": "python3"
  },
  "language_info": {
   "codemirror_mode": {
    "name": "ipython",
    "version": 3
   },
   "file_extension": ".py",
   "mimetype": "text/x-python",
   "name": "python",
   "nbconvert_exporter": "python",
   "pygments_lexer": "ipython3",
   "version": "3.11.1"
  },
  "orig_nbformat": 4,
  "vscode": {
   "interpreter": {
    "hash": "713804cc2d668379efd4d6a39f261106dca65bffc2d4539db95a5694855868e6"
   }
  }
 },
 "nbformat": 4,
 "nbformat_minor": 2
}
